{
  "metadata": {
    "language_info": {
      "codemirror_mode": {
        "name": "python",
        "version": 3
      },
      "file_extension": ".py",
      "mimetype": "text/x-python",
      "name": "python",
      "nbconvert_exporter": "python",
      "pygments_lexer": "ipython3",
      "version": "3.8"
    },
    "kernelspec": {
      "name": "python",
      "display_name": "Pyolite",
      "language": "python"
    }
  },
  "nbformat_minor": 4,
  "nbformat": 4,
  "cells": [
    {
      "cell_type": "markdown",
      "source": "# Data Science Tools And Ecosystem",
      "metadata": {}
    },
    {
      "cell_type": "markdown",
      "source": "In This Notebook, Data science Tools and Ecosystem Are Summarize\n\n",
      "metadata": {}
    },
    {
      "cell_type": "markdown",
      "source": "## OBJECTIVES ##",
      "metadata": {}
    },
    {
      "cell_type": "markdown",
      "source": "- List of popular languages of Data Scientists.\n- List the commonly used libraries by Data Scientists.\n- List out some Data Sciences Tools.\n- Do some simple arithmetics expression.\n",
      "metadata": {}
    },
    {
      "cell_type": "markdown",
      "source": "Some of the popular languages used by Data scientists are\n1. Phython.\n2. Java.\n3. R and RStudio.\n4. SQL.\n5. C++.\n6. Scala.\n7. Julia. and many more languages",
      "metadata": {}
    },
    {
      "cell_type": "markdown",
      "source": "Some of the commonly used Libraries by Data Scientists includes:\n1. Python. \n2. Pandas.\n3. Numpy.\n4. Matplotlib.\n5. Seaborn. ",
      "metadata": {}
    },
    {
      "cell_type": "markdown",
      "source": "Data Sciense Tools:\n1. Jupyter.\n2. Jupyterlab.\n3. Apache Zeppelin.\n4. RStudio.\n5. SPYDER.",
      "metadata": {}
    },
    {
      "cell_type": "markdown",
      "source": "### Below are a few example of evaluating arithmetic expressions in Python:\n",
      "metadata": {}
    },
    {
      "cell_type": "markdown",
      "source": "This is a simple arithmetic expression to multiply then add integers:",
      "metadata": {}
    },
    {
      "cell_type": "code",
      "source": "(3*4)+5",
      "metadata": {
        "trusted": true
      },
      "execution_count": 7,
      "outputs": [
        {
          "execution_count": 7,
          "output_type": "execute_result",
          "data": {
            "text/plain": "17"
          },
          "metadata": {}
        }
      ]
    },
    {
      "cell_type": "markdown",
      "source": "This will convert 200 minutes to hours by dividing by 60:",
      "metadata": {}
    },
    {
      "cell_type": "code",
      "source": "200/60 ",
      "metadata": {
        "trusted": true
      },
      "execution_count": 9,
      "outputs": [
        {
          "execution_count": 9,
          "output_type": "execute_result",
          "data": {
            "text/plain": "3.3333333333333335"
          },
          "metadata": {}
        }
      ]
    },
    {
      "cell_type": "markdown",
      "source": "There are  3.3 hours in 200 minutes",
      "metadata": {}
    },
    {
      "cell_type": "markdown",
      "source": "## AUTHOR: \nHAPPINESS IJEOMA",
      "metadata": {}
    },
    {
      "cell_type": "code",
      "source": "",
      "metadata": {},
      "execution_count": null,
      "outputs": []
    }
  ]
}